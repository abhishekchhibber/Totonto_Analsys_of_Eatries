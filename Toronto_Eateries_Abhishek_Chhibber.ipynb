{
 "cells": [
  {
   "cell_type": "code",
   "execution_count": 1,
   "metadata": {
    "collapsed": false
   },
   "outputs": [],
   "source": [
    "import pymysql\n",
    "import pymysql.cursors\n",
    "import csv\n",
    "import pandas as pd\n",
    "import matplotlib.pyplot as plt\n",
    "import seaborn as sns\n",
    "%matplotlib inline"
   ]
  },
  {
   "cell_type": "markdown",
   "metadata": {},
   "source": [
    "### Connecting to MySQL Database"
   ]
  },
  {
   "cell_type": "code",
   "execution_count": 2,
   "metadata": {
    "collapsed": false
   },
   "outputs": [],
   "source": [
    "pss = open('db_pwd.txt', 'r').read() #password to database\n",
    "\n",
    "# Connect to the database\n",
    "connection = pymysql.connect(host='127.0.0.1',\n",
    "                             user='root',\n",
    "                             password=pss,\n",
    "                             db='city_amenities',\n",
    "                             port=3306,\n",
    "                             charset='utf8'\n",
    "                             )\n",
    "cursor = connection.cursor()"
   ]
  },
  {
   "cell_type": "code",
   "execution_count": 3,
   "metadata": {
    "collapsed": false
   },
   "outputs": [
    {
     "data": {
      "text/plain": [
       "2"
      ]
     },
     "execution_count": 3,
     "metadata": {},
     "output_type": "execute_result"
    }
   ],
   "source": [
    "cursor.execute('''SHOW TABLES;''')"
   ]
  },
  {
   "cell_type": "code",
   "execution_count": 4,
   "metadata": {
    "collapsed": false
   },
   "outputs": [
    {
     "data": {
      "text/plain": [
       "(('eateries',), ('toronto',))"
      ]
     },
     "execution_count": 4,
     "metadata": {},
     "output_type": "execute_result"
    }
   ],
   "source": [
    "cursor.fetchall()"
   ]
  },
  {
   "cell_type": "markdown",
   "metadata": {},
   "source": [
    "#### Finding total number of eateries in Toronto"
   ]
  },
  {
   "cell_type": "code",
   "execution_count": 8,
   "metadata": {
    "collapsed": false
   },
   "outputs": [
    {
     "name": "stdout",
     "output_type": "stream",
     "text": [
      "Total unique eateries listed in the Database: 7569\n"
     ]
    }
   ],
   "source": [
    "cursor.execute ('''SELECT COUNT(*) FROM `eateries` WHERE `eatery` IS NOT NULL''')\n",
    "rest = cursor.fetchall()\n",
    "print (\"Total unique eateries listed in the Database: \"+str(rest[0][0]))"
   ]
  },
  {
   "cell_type": "code",
   "execution_count": 9,
   "metadata": {
    "collapsed": false
   },
   "outputs": [
    {
     "data": {
      "text/html": [
       "<div>\n",
       "<table border=\"1\" class=\"dataframe\">\n",
       "  <thead>\n",
       "    <tr style=\"text-align: right;\">\n",
       "      <th></th>\n",
       "      <th>eatery</th>\n",
       "      <th>Outlets</th>\n",
       "    </tr>\n",
       "  </thead>\n",
       "  <tbody>\n",
       "    <tr>\n",
       "      <th>0</th>\n",
       "      <td>ice_cream</td>\n",
       "      <td>39</td>\n",
       "    </tr>\n",
       "    <tr>\n",
       "      <th>1</th>\n",
       "      <td>bar</td>\n",
       "      <td>110</td>\n",
       "    </tr>\n",
       "    <tr>\n",
       "      <th>2</th>\n",
       "      <td>pub</td>\n",
       "      <td>351</td>\n",
       "    </tr>\n",
       "    <tr>\n",
       "      <th>3</th>\n",
       "      <td>cafe</td>\n",
       "      <td>1396</td>\n",
       "    </tr>\n",
       "    <tr>\n",
       "      <th>4</th>\n",
       "      <td>restaurant</td>\n",
       "      <td>2716</td>\n",
       "    </tr>\n",
       "    <tr>\n",
       "      <th>5</th>\n",
       "      <td>fast_food</td>\n",
       "      <td>2957</td>\n",
       "    </tr>\n",
       "  </tbody>\n",
       "</table>\n",
       "</div>"
      ],
      "text/plain": [
       "       eatery  Outlets\n",
       "0   ice_cream       39\n",
       "1         bar      110\n",
       "2         pub      351\n",
       "3        cafe     1396\n",
       "4  restaurant     2716\n",
       "5   fast_food     2957"
      ]
     },
     "execution_count": 9,
     "metadata": {},
     "output_type": "execute_result"
    }
   ],
   "source": [
    "sql = '''SELECT `eatery`, COUNT(`name`) AS Outlets  FROM `eateries` WHERE `eatery` IS NOT NULL GROUP BY `eatery` ORDER BY Outlets;'''\n",
    "df = pd.read_sql_query(sql, connection)\n",
    "df"
   ]
  },
  {
   "cell_type": "code",
   "execution_count": 10,
   "metadata": {
    "collapsed": false
   },
   "outputs": [
    {
     "data": {
      "image/png": "[encoded data removed]",
      "text/plain": [
       "<matplotlib.figure.Figure at 0x24851d80f28>"
      ]
     },
     "metadata": {},
     "output_type": "display_data"
    }
   ],
   "source": [
    "er = df.set_index(['eatery'])\n",
    "er[['Outlets']].plot.barh(stacked=True);"
   ]
  },
  {
   "cell_type": "markdown",
   "metadata": {},
   "source": [
    "#### Eateries per square KM and per 1,000 persons "
   ]
  },
  {
   "cell_type": "code",
   "execution_count": 11,
   "metadata": {
    "collapsed": true
   },
   "outputs": [],
   "source": [
    "toronto_area = 630.21 #square KM - Wikipedia\n",
    "toronto_population = 2615060 #2011 estimates- Wikipedia"
   ]
  },
  {
   "cell_type": "code",
   "execution_count": 12,
   "metadata": {
    "collapsed": false
   },
   "outputs": [
    {
     "data": {
      "text/html": [
       "<div>\n",
       "<table border=\"1\" class=\"dataframe\">\n",
       "  <thead>\n",
       "    <tr style=\"text-align: right;\">\n",
       "      <th></th>\n",
       "      <th>Outlets</th>\n",
       "      <th>per_sq_km</th>\n",
       "      <th>per_1000_persons</th>\n",
       "    </tr>\n",
       "    <tr>\n",
       "      <th>eatery</th>\n",
       "      <th></th>\n",
       "      <th></th>\n",
       "      <th></th>\n",
       "    </tr>\n",
       "  </thead>\n",
       "  <tbody>\n",
       "    <tr>\n",
       "      <th>ice_cream</th>\n",
       "      <td>39</td>\n",
       "      <td>0.06</td>\n",
       "      <td>0.01</td>\n",
       "    </tr>\n",
       "    <tr>\n",
       "      <th>bar</th>\n",
       "      <td>110</td>\n",
       "      <td>0.17</td>\n",
       "      <td>0.04</td>\n",
       "    </tr>\n",
       "    <tr>\n",
       "      <th>pub</th>\n",
       "      <td>351</td>\n",
       "      <td>0.56</td>\n",
       "      <td>0.13</td>\n",
       "    </tr>\n",
       "    <tr>\n",
       "      <th>cafe</th>\n",
       "      <td>1396</td>\n",
       "      <td>2.22</td>\n",
       "      <td>0.53</td>\n",
       "    </tr>\n",
       "    <tr>\n",
       "      <th>restaurant</th>\n",
       "      <td>2716</td>\n",
       "      <td>4.31</td>\n",
       "      <td>1.04</td>\n",
       "    </tr>\n",
       "    <tr>\n",
       "      <th>fast_food</th>\n",
       "      <td>2957</td>\n",
       "      <td>4.69</td>\n",
       "      <td>1.13</td>\n",
       "    </tr>\n",
       "  </tbody>\n",
       "</table>\n",
       "</div>"
      ],
      "text/plain": [
       "            Outlets  per_sq_km  per_1000_persons\n",
       "eatery                                          \n",
       "ice_cream        39       0.06              0.01\n",
       "bar             110       0.17              0.04\n",
       "pub             351       0.56              0.13\n",
       "cafe           1396       2.22              0.53\n",
       "restaurant     2716       4.31              1.04\n",
       "fast_food      2957       4.69              1.13"
      ]
     },
     "execution_count": 12,
     "metadata": {},
     "output_type": "execute_result"
    }
   ],
   "source": [
    "df2 = df\n",
    "df2['per_sq_km'] = (df2.Outlets/toronto_area).round(2)\n",
    "df2['per_1000_persons'] = (df2.Outlets/(toronto_population/1000)).round(2)\n",
    "df.set_index(['eatery'])"
   ]
  },
  {
   "cell_type": "markdown",
   "metadata": {},
   "source": [
    "#### Top Brands in each category — by numbers and %"
   ]
  },
  {
   "cell_type": "code",
   "execution_count": 13,
   "metadata": {
    "collapsed": false
   },
   "outputs": [
    {
     "data": {
      "text/html": [
       "<div>\n",
       "<table border=\"1\" class=\"dataframe\">\n",
       "  <thead>\n",
       "    <tr style=\"text-align: right;\">\n",
       "      <th></th>\n",
       "      <th>eatery</th>\n",
       "    </tr>\n",
       "  </thead>\n",
       "  <tbody>\n",
       "    <tr>\n",
       "      <th>0</th>\n",
       "      <td>bar</td>\n",
       "    </tr>\n",
       "    <tr>\n",
       "      <th>1</th>\n",
       "      <td>cafe</td>\n",
       "    </tr>\n",
       "    <tr>\n",
       "      <th>2</th>\n",
       "      <td>fast_food</td>\n",
       "    </tr>\n",
       "    <tr>\n",
       "      <th>3</th>\n",
       "      <td>ice_cream</td>\n",
       "    </tr>\n",
       "    <tr>\n",
       "      <th>4</th>\n",
       "      <td>pub</td>\n",
       "    </tr>\n",
       "  </tbody>\n",
       "</table>\n",
       "</div>"
      ],
      "text/plain": [
       "      eatery\n",
       "0        bar\n",
       "1       cafe\n",
       "2  fast_food\n",
       "3  ice_cream\n",
       "4        pub"
      ]
     },
     "execution_count": 13,
     "metadata": {},
     "output_type": "execute_result"
    }
   ],
   "source": [
    "sql_two = '''SELECT DISTINCT eatery FROM `eateries`   ;'''\n",
    "df_two = pd.read_sql_query(sql_two, connection)\n",
    "df_two.head()\n"
   ]
  },
  {
   "cell_type": "code",
   "execution_count": 14,
   "metadata": {
    "collapsed": true
   },
   "outputs": [],
   "source": [
    "df_two_list = df_two['eatery'].values.tolist()"
   ]
  },
  {
   "cell_type": "code",
   "execution_count": 16,
   "metadata": {
    "collapsed": false
   },
   "outputs": [
    {
     "name": "stdout",
     "output_type": "stream",
     "text": [
      "Top 5 names with maximum outlets for the eatery: bar\n",
      "east thirty-six 1 0.91%\n",
      "\n",
      "The Only Cafe 1 0.91%\n",
      "\n",
      "Ontario Spring Water Sake 1 0.91%\n",
      "\n",
      "Caven's Alley Bar 1 0.91%\n",
      "\n",
      "SPiN 1 0.91%\n",
      "\n",
      "Top 5 names with maximum outlets for the eatery: cafe\n",
      "Tim Hortons 418 29.94%\n",
      "\n",
      "Starbucks Coffee 245 17.55%\n",
      "\n",
      "Second Cup 97 6.95%\n",
      "\n",
      "Coffee Time 64 4.58%\n",
      "\n",
      "Country Style 37 2.65%\n",
      "\n",
      "Top 5 names with maximum outlets for the eatery: fast_food\n",
      "Subway 398 13.46%\n",
      "\n",
      "Pizza Pizza 182 6.15%\n",
      "\n",
      "McDonald's 95 3.21%\n",
      "\n",
      "Mr. Sub 90 3.04%\n",
      "\n",
      "Pizza Nova 70 2.37%\n",
      "\n",
      "Top 5 names with maximum outlets for the eatery: ice_cream\n",
      "Baskin-Robbins 6 15.38%\n",
      "\n",
      "Baskin Robbins 4 10.26%\n",
      "\n",
      "Menchie's Frozen Yogurt 4 10.26%\n",
      "\n",
      "Marble Slab Creamery 3 7.69%\n",
      "\n",
      "Yogurty's 2 5.13%\n",
      "\n",
      "Top 5 names with maximum outlets for the eatery: pub\n",
      "Wild Wing 8 2.28%\n",
      "\n",
      "Fox and Fiddle 7 1.99%\n",
      "\n",
      "Fionn MacCool's 5 1.42%\n",
      "\n",
      "Shoeless Joe's 3 0.85%\n",
      "\n",
      "Bier Markt 3 0.85%\n",
      "\n",
      "Top 5 names with maximum outlets for the eatery: restaurant\n",
      "Swiss Chalet 56 2.06%\n",
      "\n",
      "Sunset Grill 33 1.22%\n",
      "\n",
      "Boston Pizza 25 0.92%\n",
      "\n",
      "Eggsmart 18 0.66%\n",
      "\n",
      "Kelsey's 17 0.63%\n",
      "\n"
     ]
    }
   ],
   "source": [
    "ab = pd.DataFrame\n",
    "for one_eatery in df_two_list:\n",
    "    q_one = '''SELECT eatery,COUNT(`eatery`) AS eat  FROM `eateries` WHERE eatery LIKE %s;'''\n",
    "    cursor.execute (q_one,one_eatery)\n",
    "    eats = cursor.fetchall()\n",
    "    full_value = int(eats[0][1])\n",
    "    \n",
    "    \n",
    "    query = '''SELECT `name`, COUNT( `name`) AS Amen  FROM `eateries` WHERE `name` IS NOT NULL and `name` != '' and `eatery` like %s GROUP BY IFNULL(`name`,0) ORDER BY Amen DESC LIMIT 5;'''\n",
    "    cursor.execute (query,one_eatery)\n",
    "    top_ones = cursor.fetchall()\n",
    "    print (\"Top 5 names with maximum outlets for the eatery: \"+one_eatery)\n",
    "    for one in top_ones:\n",
    "        am_name = one[0]\n",
    "        am_value = int(one[1])\n",
    "        am_pct = str(\"%.2f\" %((am_value/full_value)*100))+\"%\"\n",
    "        print (am_name,am_value,am_pct)\n",
    "        print (\"\")\n",
    "\n",
    "\n"
   ]
  },
  {
   "cell_type": "code",
   "execution_count": 178,
   "metadata": {
    "collapsed": true
   },
   "outputs": [],
   "source": [
    "cursor.close()\n",
    "connection.close()"
   ]
  },
  {
   "cell_type": "markdown",
   "metadata": {},
   "source": []
  }
 ],
 "metadata": {
  "anaconda-cloud": {},
  "kernelspec": {
   "display_name": "Python [default]",
   "language": "python",
   "name": "python3"
  },
  "language_info": {
   "codemirror_mode": {
    "name": "ipython",
    "version": 3
   },
   "file_extension": ".py",
   "mimetype": "text/x-python",
   "name": "python",
   "nbconvert_exporter": "python",
   "pygments_lexer": "ipython3",
   "version": "3.5.2"
  }
 },
 "nbformat": 4,
 "nbformat_minor": 1
}
